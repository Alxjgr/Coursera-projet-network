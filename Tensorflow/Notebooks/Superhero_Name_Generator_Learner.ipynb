{
  "cells": [
    {
      "cell_type": "markdown",
      "metadata": {
        "id": "21XXWP7Fpt2L"
      },
      "source": [
        "# Superhero (and Supervillain) Name Generator\n",
        "\n",
        "---\n",
        "\n",
        "[Superhero Names Dataset](https://github.com/am1tyadav/superhero)"
      ]
    },
    {
      "cell_type": "markdown",
      "metadata": {
        "id": "H6P0NU5Cpt2R"
      },
      "source": [
        "## Task 2\n",
        "\n",
        "1. Import the data\n",
        "2. Create a tokenizer\n",
        "3. Char to index and Index to char dictionaries"
      ]
    },
    {
      "cell_type": "code",
      "execution_count": 3,
      "metadata": {
        "id": "srULhalZpt2M",
        "colab": {
          "base_uri": "https://localhost:8080/"
        },
        "outputId": "3a805c2d-6302-4eb7-fe9a-ada1b69e0825"
      },
      "outputs": [
        {
          "output_type": "stream",
          "name": "stdout",
          "text": [
            "Cloning into 'superhero'...\n",
            "remote: Enumerating objects: 8, done.\u001b[K\n",
            "remote: Counting objects: 100% (8/8), done.\u001b[K\n",
            "remote: Compressing objects: 100% (7/7), done.\u001b[K\n",
            "remote: Total 8 (delta 0), reused 4 (delta 0), pack-reused 0\u001b[K\n",
            "Receiving objects: 100% (8/8), 47.08 KiB | 5.88 MiB/s, done.\n"
          ]
        }
      ],
      "source": [
        "!git clone https://github.com/am1tyadav/superhero"
      ]
    },
    {
      "cell_type": "code",
      "execution_count": 4,
      "metadata": {
        "id": "uq4CLmsLpt2P",
        "colab": {
          "base_uri": "https://localhost:8080/",
          "height": 53
        },
        "outputId": "19feba02-f99d-474a-9a8b-4cd9f671ec14"
      },
      "outputs": [
        {
          "output_type": "execute_result",
          "data": {
            "text/plain": [
              "'jumpa\\t\\ndoctor fate\\t\\nstarlight\\t\\nisildur\\t\\nlasher\\t\\nvarvara\\t\\nthe target\\t\\naxel\\t\\nbattra\\t\\nchangeling\\t\\npyrrh'"
            ],
            "application/vnd.google.colaboratory.intrinsic+json": {
              "type": "string"
            }
          },
          "metadata": {},
          "execution_count": 4
        }
      ],
      "source": [
        "with open('superhero/superheroes.txt', 'r') as f:\n",
        "  data = f.read()\n",
        "\n",
        "data[:100]"
      ]
    },
    {
      "cell_type": "code",
      "execution_count": 5,
      "metadata": {
        "id": "JqhtLuAHpt2R",
        "colab": {
          "base_uri": "https://localhost:8080/"
        },
        "outputId": "d7048888-c061-4269-855a-472a91419b12"
      },
      "outputs": [
        {
          "output_type": "stream",
          "name": "stdout",
          "text": [
            "2.15.0\n"
          ]
        }
      ],
      "source": [
        "import tensorflow as tf\n",
        "print(tf.__version__)"
      ]
    },
    {
      "cell_type": "code",
      "execution_count": 6,
      "metadata": {
        "id": "95Lo1Yqzpt2T"
      },
      "outputs": [],
      "source": [
        "tokenizer = tf.keras.preprocessing.text.Tokenizer(\n",
        "    filters='!\"#$%&()*+,-./:;<=>?@[\\\\]^_`{|}~',\n",
        "    split='\\n',\n",
        ")"
      ]
    },
    {
      "cell_type": "code",
      "execution_count": 7,
      "metadata": {
        "id": "qYfC4sj2pt2V"
      },
      "outputs": [],
      "source": [
        "tokenizer.fit_on_texts(data)"
      ]
    },
    {
      "cell_type": "code",
      "execution_count": 8,
      "metadata": {
        "id": "EO4-dPM6pt2X",
        "colab": {
          "base_uri": "https://localhost:8080/"
        },
        "outputId": "41d9d82d-2d0c-4ee5-e8c3-9983f0f2acc8"
      },
      "outputs": [
        {
          "output_type": "stream",
          "name": "stdout",
          "text": [
            "{1: '\\t', 2: 'a', 3: 'e', 4: 'r', 5: 'o', 6: 'n', 7: 'i', 8: ' ', 9: 't', 10: 's', 11: 'l', 12: 'm', 13: 'h', 14: 'd', 15: 'c', 16: 'u', 17: 'g', 18: 'k', 19: 'b', 20: 'p', 21: 'y', 22: 'w', 23: 'f', 24: 'v', 25: 'j', 26: 'z', 27: 'x', 28: 'q'}\n"
          ]
        }
      ],
      "source": [
        "char_to_index = tokenizer.word_index\n",
        "index_to_char = dict((v, k) for k, v in char_to_index.items())\n",
        "\n",
        "print(index_to_char)"
      ]
    },
    {
      "cell_type": "markdown",
      "metadata": {
        "id": "SMwtIw_Bpt2Z"
      },
      "source": [
        "## Task 3\n",
        "\n",
        "1. Converting between names and sequences"
      ]
    },
    {
      "cell_type": "code",
      "execution_count": 9,
      "metadata": {
        "id": "N7iQLIXzpt2a",
        "colab": {
          "base_uri": "https://localhost:8080/"
        },
        "outputId": "5a992fdf-a1df-451a-dae3-5ca054186438"
      },
      "outputs": [
        {
          "output_type": "execute_result",
          "data": {
            "text/plain": [
              "['jumpa\\t',\n",
              " 'doctor fate\\t',\n",
              " 'starlight\\t',\n",
              " 'isildur\\t',\n",
              " 'lasher\\t',\n",
              " 'varvara\\t',\n",
              " 'the target\\t',\n",
              " 'axel\\t',\n",
              " 'battra\\t',\n",
              " 'changeling\\t']"
            ]
          },
          "metadata": {},
          "execution_count": 9
        }
      ],
      "source": [
        "names = data.splitlines()\n",
        "names[:10]"
      ]
    },
    {
      "cell_type": "code",
      "execution_count": 10,
      "metadata": {
        "id": "n_-TTfqipt2c",
        "colab": {
          "base_uri": "https://localhost:8080/"
        },
        "outputId": "db3549ea-e064-47bd-ce18-1b8052a266b3"
      },
      "outputs": [
        {
          "output_type": "execute_result",
          "data": {
            "text/plain": [
              "[[25], [16], [12], [20], [2], [1]]"
            ]
          },
          "metadata": {},
          "execution_count": 10
        }
      ],
      "source": [
        "tokenizer.texts_to_sequences(names[0])"
      ]
    },
    {
      "cell_type": "code",
      "execution_count": 11,
      "metadata": {
        "id": "P6IsKH1Upt2e"
      },
      "outputs": [],
      "source": [
        "def name_to_seq(name):\n",
        "  return [tokenizer.texts_to_sequences(c)[0][0] for c in name]"
      ]
    },
    {
      "cell_type": "code",
      "execution_count": 12,
      "metadata": {
        "id": "TuLUiMP3pt2g",
        "colab": {
          "base_uri": "https://localhost:8080/"
        },
        "outputId": "e9cc9f67-f8b7-4ec8-bd4b-1a8c3568fa4a"
      },
      "outputs": [
        {
          "output_type": "execute_result",
          "data": {
            "text/plain": [
              "[25, 16, 12, 20, 2, 1]"
            ]
          },
          "metadata": {},
          "execution_count": 12
        }
      ],
      "source": [
        "name_to_seq(names[0])"
      ]
    },
    {
      "cell_type": "code",
      "execution_count": 13,
      "metadata": {
        "id": "yFUYhimKpt2h"
      },
      "outputs": [],
      "source": [
        "def seq_to_name(seq):\n",
        "  return ''.join([index_to_char[i] for i in seq if i != 0])"
      ]
    },
    {
      "cell_type": "code",
      "execution_count": 14,
      "metadata": {
        "id": "ROhCqmhLpt2k",
        "colab": {
          "base_uri": "https://localhost:8080/",
          "height": 36
        },
        "outputId": "895e8b84-a30b-4682-f042-1fc62a2737e1"
      },
      "outputs": [
        {
          "output_type": "execute_result",
          "data": {
            "text/plain": [
              "'jumpa\\t'"
            ],
            "application/vnd.google.colaboratory.intrinsic+json": {
              "type": "string"
            }
          },
          "metadata": {},
          "execution_count": 14
        }
      ],
      "source": [
        "seq_to_name(name_to_seq(names[0]))"
      ]
    },
    {
      "cell_type": "markdown",
      "metadata": {
        "id": "uCbAzsNjpt2m"
      },
      "source": [
        "## Task 4\n",
        "\n",
        "1. Creating sequences\n",
        "2. Padding all sequences"
      ]
    },
    {
      "cell_type": "code",
      "execution_count": 15,
      "metadata": {
        "id": "zstNn-0dpt2m"
      },
      "outputs": [],
      "source": [
        "sequences = []\n",
        "\n",
        "for name in names:\n",
        "  seq = name_to_seq(name)\n",
        "  if len(seq) >= 2:\n",
        "    sequences += [seq[:i] for i in range(2, len(seq) + 1)]"
      ]
    },
    {
      "cell_type": "code",
      "execution_count": 16,
      "metadata": {
        "id": "BjRTMysvpt2o",
        "colab": {
          "base_uri": "https://localhost:8080/"
        },
        "outputId": "75550e70-d07a-4477-e4b0-b10041b8ce32"
      },
      "outputs": [
        {
          "output_type": "execute_result",
          "data": {
            "text/plain": [
              "[[25, 16],\n",
              " [25, 16, 12],\n",
              " [25, 16, 12, 20],\n",
              " [25, 16, 12, 20, 2],\n",
              " [25, 16, 12, 20, 2, 1],\n",
              " [14, 5],\n",
              " [14, 5, 15],\n",
              " [14, 5, 15, 9],\n",
              " [14, 5, 15, 9, 5],\n",
              " [14, 5, 15, 9, 5, 4]]"
            ]
          },
          "metadata": {},
          "execution_count": 16
        }
      ],
      "source": [
        "sequences[:10]"
      ]
    },
    {
      "cell_type": "code",
      "execution_count": 17,
      "metadata": {
        "id": "SR68pu2tpt2q",
        "colab": {
          "base_uri": "https://localhost:8080/"
        },
        "outputId": "a04af357-9c82-407b-9d8f-645d2cb95015"
      },
      "outputs": [
        {
          "output_type": "stream",
          "name": "stdout",
          "text": [
            "33\n"
          ]
        }
      ],
      "source": [
        "max_len = max([len(x) for x in sequences])\n",
        "print(max_len)"
      ]
    },
    {
      "cell_type": "code",
      "execution_count": 18,
      "metadata": {
        "id": "h_1BtWO7pt2r",
        "colab": {
          "base_uri": "https://localhost:8080/"
        },
        "outputId": "9e81e2fb-eccc-489f-a655-166c1bcf14e3"
      },
      "outputs": [
        {
          "output_type": "stream",
          "name": "stdout",
          "text": [
            "[ 0  0  0  0  0  0  0  0  0  0  0  0  0  0  0  0  0  0  0  0  0  0  0  0\n",
            "  0  0  0  0  0  0  0 25 16]\n"
          ]
        }
      ],
      "source": [
        "padded_sequences = tf.keras.preprocessing.sequence.pad_sequences(\n",
        "    sequences, padding='pre',\n",
        "    maxlen=max_len\n",
        ")\n",
        "print(padded_sequences[0])"
      ]
    },
    {
      "cell_type": "code",
      "execution_count": 19,
      "metadata": {
        "id": "sPlrLRpSpt2t",
        "colab": {
          "base_uri": "https://localhost:8080/"
        },
        "outputId": "de48afcd-a232-4d0e-dd74-95188e4ddca8"
      },
      "outputs": [
        {
          "output_type": "execute_result",
          "data": {
            "text/plain": [
              "(88279, 33)"
            ]
          },
          "metadata": {},
          "execution_count": 19
        }
      ],
      "source": [
        "padded_sequences.shape"
      ]
    },
    {
      "cell_type": "markdown",
      "metadata": {
        "id": "l2s8b0wOMC7d"
      },
      "source": [
        "## Task 5: Creating Training and Validation Sets\n",
        "\n",
        "1. Creating training and validation sets"
      ]
    },
    {
      "cell_type": "code",
      "execution_count": 20,
      "metadata": {
        "id": "BE4BIeSnpt2v",
        "colab": {
          "base_uri": "https://localhost:8080/"
        },
        "outputId": "d7798611-b081-4659-eebb-6a3d01b440ea"
      },
      "outputs": [
        {
          "output_type": "stream",
          "name": "stdout",
          "text": [
            "(88279, 32) (88279,)\n"
          ]
        }
      ],
      "source": [
        "x, y = padded_sequences[:, :-1], padded_sequences[:, -1]\n",
        "print(x.shape, y.shape)"
      ]
    },
    {
      "cell_type": "code",
      "execution_count": 21,
      "metadata": {
        "id": "Ahulz_G4MC7e",
        "colab": {
          "base_uri": "https://localhost:8080/"
        },
        "outputId": "c91d3faf-a05e-48a1-8197-8a703678b813"
      },
      "outputs": [
        {
          "output_type": "stream",
          "name": "stdout",
          "text": [
            "(66209, 32) (66209,)\n",
            "(22070, 32) (22070,)\n"
          ]
        }
      ],
      "source": [
        "from sklearn.model_selection import train_test_split\n",
        "\n",
        "x_train, x_test, y_train, y_test = train_test_split(x, y)\n",
        "\n",
        "print(x_train.shape, y_train.shape)\n",
        "print(x_test.shape, y_test.shape)"
      ]
    },
    {
      "cell_type": "code",
      "execution_count": 22,
      "metadata": {
        "id": "cgqRZtqnpt2x",
        "colab": {
          "base_uri": "https://localhost:8080/"
        },
        "outputId": "29725525-3673-481e-a324-63ee9c7f1c56"
      },
      "outputs": [
        {
          "output_type": "stream",
          "name": "stdout",
          "text": [
            "29\n"
          ]
        }
      ],
      "source": [
        "num_chars = len(char_to_index.keys()) + 1\n",
        "print(num_chars)"
      ]
    },
    {
      "cell_type": "markdown",
      "metadata": {
        "id": "wnAZrCDNMC7e"
      },
      "source": [
        "## Task 6: Creating the Model"
      ]
    },
    {
      "cell_type": "code",
      "execution_count": 28,
      "metadata": {
        "id": "NBehcPPJMC7f",
        "colab": {
          "base_uri": "https://localhost:8080/"
        },
        "outputId": "89b06ea8-4906-4d8a-d427-84c3c5ffbe13"
      },
      "outputs": [
        {
          "output_type": "stream",
          "name": "stdout",
          "text": [
            "Model: \"sequential_2\"\n",
            "_________________________________________________________________\n",
            " Layer (type)                Output Shape              Param #   \n",
            "=================================================================\n",
            " embedding_3 (Embedding)     (None, 32, 8)             232       \n",
            "                                                                 \n",
            " conv1d_3 (Conv1D)           (None, 32, 64)            2624      \n",
            "                                                                 \n",
            " max_pooling1d_2 (MaxPoolin  (None, 16, 64)            0         \n",
            " g1D)                                                            \n",
            "                                                                 \n",
            " lstm_2 (LSTM)               (None, 32)                12416     \n",
            "                                                                 \n",
            " dense_2 (Dense)             (None, 29)                957       \n",
            "                                                                 \n",
            "=================================================================\n",
            "Total params: 16229 (63.39 KB)\n",
            "Trainable params: 16229 (63.39 KB)\n",
            "Non-trainable params: 0 (0.00 Byte)\n",
            "_________________________________________________________________\n"
          ]
        }
      ],
      "source": [
        "from tensorflow.keras.models import Sequential\n",
        "from tensorflow.keras.layers import Embedding, Conv1D, MaxPool1D, LSTM\n",
        "from tensorflow.keras.layers import Bidirectional, Dense\n",
        "\n",
        "model = Sequential([\n",
        "    Embedding(num_chars, 8, input_length=max_len-1),\n",
        "    Conv1D(64, 5, strides=1, activation='tanh', padding='causal'),\n",
        "    MaxPool1D(2),\n",
        "    LSTM(32),\n",
        "    Dense(num_chars, activation='softmax')\n",
        "])\n",
        "\n",
        "model.compile(\n",
        "    loss='sparse_categorical_crossentropy',\n",
        "    optimizer='adam',\n",
        "    metrics=['accuracy']\n",
        ")\n",
        "model.summary()"
      ]
    },
    {
      "cell_type": "markdown",
      "metadata": {
        "id": "zvh0X6eHMC7f"
      },
      "source": [
        "## Task 7: Training the Model"
      ]
    },
    {
      "cell_type": "code",
      "execution_count": 29,
      "metadata": {
        "id": "j0Ssl4qupt22",
        "colab": {
          "base_uri": "https://localhost:8080/"
        },
        "outputId": "5922d54b-146a-457b-8563-aa6c5ec57e43"
      },
      "outputs": [
        {
          "output_type": "stream",
          "name": "stdout",
          "text": [
            "Epoch 1/50\n",
            "2070/2070 - 18s - loss: 2.7485 - accuracy: 0.1873 - val_loss: 2.6192 - val_accuracy: 0.2145 - 18s/epoch - 9ms/step\n",
            "Epoch 2/50\n",
            "2070/2070 - 13s - loss: 2.5665 - accuracy: 0.2298 - val_loss: 2.5340 - val_accuracy: 0.2411 - 13s/epoch - 6ms/step\n",
            "Epoch 3/50\n",
            "2070/2070 - 12s - loss: 2.4864 - accuracy: 0.2472 - val_loss: 2.4619 - val_accuracy: 0.2534 - 12s/epoch - 6ms/step\n",
            "Epoch 4/50\n",
            "2070/2070 - 11s - loss: 2.4313 - accuracy: 0.2629 - val_loss: 2.4315 - val_accuracy: 0.2643 - 11s/epoch - 5ms/step\n",
            "Epoch 5/50\n",
            "2070/2070 - 12s - loss: 2.3965 - accuracy: 0.2709 - val_loss: 2.3998 - val_accuracy: 0.2710 - 12s/epoch - 6ms/step\n",
            "Epoch 6/50\n",
            "2070/2070 - 12s - loss: 2.3680 - accuracy: 0.2810 - val_loss: 2.3814 - val_accuracy: 0.2833 - 12s/epoch - 6ms/step\n",
            "Epoch 7/50\n",
            "2070/2070 - 11s - loss: 2.3436 - accuracy: 0.2893 - val_loss: 2.3610 - val_accuracy: 0.2851 - 11s/epoch - 5ms/step\n",
            "Epoch 8/50\n",
            "2070/2070 - 12s - loss: 2.3219 - accuracy: 0.2955 - val_loss: 2.3384 - val_accuracy: 0.2919 - 12s/epoch - 6ms/step\n",
            "Epoch 9/50\n",
            "2070/2070 - 12s - loss: 2.3001 - accuracy: 0.3019 - val_loss: 2.3247 - val_accuracy: 0.2994 - 12s/epoch - 6ms/step\n",
            "Epoch 10/50\n",
            "2070/2070 - 12s - loss: 2.2815 - accuracy: 0.3072 - val_loss: 2.3172 - val_accuracy: 0.3014 - 12s/epoch - 6ms/step\n",
            "Epoch 11/50\n",
            "2070/2070 - 11s - loss: 2.2633 - accuracy: 0.3133 - val_loss: 2.3033 - val_accuracy: 0.3045 - 11s/epoch - 5ms/step\n",
            "Epoch 12/50\n",
            "2070/2070 - 12s - loss: 2.2460 - accuracy: 0.3188 - val_loss: 2.2963 - val_accuracy: 0.3082 - 12s/epoch - 6ms/step\n",
            "Epoch 13/50\n",
            "2070/2070 - 11s - loss: 2.2296 - accuracy: 0.3233 - val_loss: 2.2850 - val_accuracy: 0.3097 - 11s/epoch - 6ms/step\n",
            "Epoch 14/50\n",
            "2070/2070 - 15s - loss: 2.2150 - accuracy: 0.3297 - val_loss: 2.2743 - val_accuracy: 0.3155 - 15s/epoch - 7ms/step\n",
            "Epoch 15/50\n",
            "2070/2070 - 16s - loss: 2.2000 - accuracy: 0.3337 - val_loss: 2.2668 - val_accuracy: 0.3169 - 16s/epoch - 8ms/step\n",
            "Epoch 16/50\n",
            "2070/2070 - 15s - loss: 2.1874 - accuracy: 0.3362 - val_loss: 2.2607 - val_accuracy: 0.3194 - 15s/epoch - 7ms/step\n",
            "Epoch 17/50\n",
            "2070/2070 - 21s - loss: 2.1746 - accuracy: 0.3411 - val_loss: 2.2561 - val_accuracy: 0.3224 - 21s/epoch - 10ms/step\n",
            "Epoch 18/50\n",
            "2070/2070 - 19s - loss: 2.1638 - accuracy: 0.3454 - val_loss: 2.2464 - val_accuracy: 0.3244 - 19s/epoch - 9ms/step\n",
            "Epoch 19/50\n",
            "2070/2070 - 20s - loss: 2.1530 - accuracy: 0.3498 - val_loss: 2.2400 - val_accuracy: 0.3289 - 20s/epoch - 10ms/step\n",
            "Epoch 20/50\n",
            "2070/2070 - 14s - loss: 2.1430 - accuracy: 0.3514 - val_loss: 2.2363 - val_accuracy: 0.3313 - 14s/epoch - 7ms/step\n",
            "Epoch 21/50\n",
            "2070/2070 - 12s - loss: 2.1324 - accuracy: 0.3578 - val_loss: 2.2337 - val_accuracy: 0.3329 - 12s/epoch - 6ms/step\n",
            "Epoch 22/50\n",
            "2070/2070 - 13s - loss: 2.1242 - accuracy: 0.3591 - val_loss: 2.2323 - val_accuracy: 0.3347 - 13s/epoch - 6ms/step\n",
            "Epoch 23/50\n",
            "2070/2070 - 15s - loss: 2.1154 - accuracy: 0.3639 - val_loss: 2.2307 - val_accuracy: 0.3360 - 15s/epoch - 7ms/step\n",
            "Epoch 24/50\n",
            "2070/2070 - 15s - loss: 2.1065 - accuracy: 0.3658 - val_loss: 2.2257 - val_accuracy: 0.3368 - 15s/epoch - 7ms/step\n",
            "Epoch 25/50\n",
            "2070/2070 - 12s - loss: 2.0994 - accuracy: 0.3678 - val_loss: 2.2254 - val_accuracy: 0.3395 - 12s/epoch - 6ms/step\n",
            "Epoch 26/50\n",
            "2070/2070 - 11s - loss: 2.0913 - accuracy: 0.3709 - val_loss: 2.2256 - val_accuracy: 0.3350 - 11s/epoch - 5ms/step\n",
            "Epoch 27/50\n",
            "2070/2070 - 11s - loss: 2.0837 - accuracy: 0.3744 - val_loss: 2.2249 - val_accuracy: 0.3386 - 11s/epoch - 6ms/step\n",
            "Epoch 28/50\n",
            "2070/2070 - 11s - loss: 2.0770 - accuracy: 0.3759 - val_loss: 2.2150 - val_accuracy: 0.3433 - 11s/epoch - 5ms/step\n",
            "Epoch 29/50\n",
            "2070/2070 - 14s - loss: 2.0705 - accuracy: 0.3785 - val_loss: 2.2216 - val_accuracy: 0.3409 - 14s/epoch - 7ms/step\n",
            "Epoch 30/50\n",
            "2070/2070 - 14s - loss: 2.0640 - accuracy: 0.3804 - val_loss: 2.2206 - val_accuracy: 0.3414 - 14s/epoch - 7ms/step\n",
            "Epoch 31/50\n",
            "2070/2070 - 14s - loss: 2.0585 - accuracy: 0.3811 - val_loss: 2.2148 - val_accuracy: 0.3447 - 14s/epoch - 7ms/step\n",
            "Epoch 32/50\n",
            "2070/2070 - 15s - loss: 2.0523 - accuracy: 0.3825 - val_loss: 2.2160 - val_accuracy: 0.3440 - 15s/epoch - 7ms/step\n",
            "Epoch 33/50\n",
            "2070/2070 - 14s - loss: 2.0467 - accuracy: 0.3847 - val_loss: 2.2212 - val_accuracy: 0.3462 - 14s/epoch - 7ms/step\n",
            "Epoch 34/50\n",
            "2070/2070 - 14s - loss: 2.0418 - accuracy: 0.3884 - val_loss: 2.2168 - val_accuracy: 0.3473 - 14s/epoch - 7ms/step\n",
            "Epoch 35/50\n",
            "2070/2070 - 15s - loss: 2.0366 - accuracy: 0.3892 - val_loss: 2.2121 - val_accuracy: 0.3468 - 15s/epoch - 7ms/step\n",
            "Epoch 36/50\n",
            "2070/2070 - 11s - loss: 2.0306 - accuracy: 0.3906 - val_loss: 2.2142 - val_accuracy: 0.3476 - 11s/epoch - 5ms/step\n",
            "Epoch 37/50\n",
            "2070/2070 - 11s - loss: 2.0261 - accuracy: 0.3934 - val_loss: 2.2121 - val_accuracy: 0.3481 - 11s/epoch - 5ms/step\n",
            "Epoch 38/50\n",
            "2070/2070 - 15s - loss: 2.0216 - accuracy: 0.3938 - val_loss: 2.2127 - val_accuracy: 0.3490 - 15s/epoch - 7ms/step\n",
            "Epoch 39/50\n",
            "2070/2070 - 11s - loss: 2.0167 - accuracy: 0.3941 - val_loss: 2.2102 - val_accuracy: 0.3512 - 11s/epoch - 5ms/step\n",
            "Epoch 40/50\n",
            "2070/2070 - 12s - loss: 2.0131 - accuracy: 0.3959 - val_loss: 2.2112 - val_accuracy: 0.3493 - 12s/epoch - 6ms/step\n",
            "Epoch 41/50\n",
            "2070/2070 - 17s - loss: 2.0089 - accuracy: 0.3978 - val_loss: 2.2145 - val_accuracy: 0.3495 - 17s/epoch - 8ms/step\n",
            "Epoch 42/50\n",
            "2070/2070 - 17s - loss: 2.0036 - accuracy: 0.3988 - val_loss: 2.2077 - val_accuracy: 0.3522 - 17s/epoch - 8ms/step\n",
            "Epoch 43/50\n",
            "2070/2070 - 12s - loss: 2.0005 - accuracy: 0.3999 - val_loss: 2.2120 - val_accuracy: 0.3512 - 12s/epoch - 6ms/step\n",
            "Epoch 44/50\n",
            "2070/2070 - 16s - loss: 1.9960 - accuracy: 0.4012 - val_loss: 2.2134 - val_accuracy: 0.3495 - 16s/epoch - 8ms/step\n",
            "Epoch 45/50\n",
            "2070/2070 - 13s - loss: 1.9927 - accuracy: 0.4027 - val_loss: 2.2107 - val_accuracy: 0.3516 - 13s/epoch - 7ms/step\n"
          ]
        }
      ],
      "source": [
        "h = model.fit(\n",
        "    x_train, y_train,\n",
        "    validation_data=(x_test, y_test),\n",
        "    epochs=50, verbose=2,\n",
        "    callbacks=[\n",
        "        tf.keras.callbacks.EarlyStopping(monitor='val_accuracy', patience=3)\n",
        "    ]\n",
        ")"
      ]
    },
    {
      "cell_type": "code",
      "source": [
        "from matplotlib import pyplot as plt\n",
        "\n",
        "epochs_ran = len(h.history['loss'])\n",
        "\n",
        "plt.plot(range(0, epochs_ran), h.history['val_accuracy'], label='Validation')\n",
        "plt.plot(range(0, epochs_ran), h.history['accuracy'], label='Training')\n",
        "plt.legend()\n",
        "plt.show()"
      ],
      "metadata": {
        "colab": {
          "base_uri": "https://localhost:8080/",
          "height": 430
        },
        "id": "MX5SHNqunGNa",
        "outputId": "18299562-97a3-4d7b-8666-ecddaf00feef"
      },
      "execution_count": 30,
      "outputs": [
        {
          "output_type": "display_data",
          "data": {
            "text/plain": [
              "<Figure size 640x480 with 1 Axes>"
            ],
            "image/png": "[encoded data removed]"
          },
          "metadata": {}
        }
      ]
    },
    {
      "cell_type": "markdown",
      "metadata": {
        "id": "ju2hS_e7MC7g"
      },
      "source": [
        "## Task 8: Generate Names!"
      ]
    },
    {
      "cell_type": "code",
      "execution_count": 35,
      "metadata": {
        "id": "9f50aTRcpt24"
      },
      "outputs": [],
      "source": [
        "def generate_names(seed):\n",
        "  for i in range(0, 40):\n",
        "    seq = name_to_seq(seed)\n",
        "    padded = tf.keras.preprocessing.sequence.pad_sequences([seq], padding='pre',\n",
        "                                                           maxlen=max_len-1,\n",
        "                                                           truncating='pre')\n",
        "    pred = model.predict(padded)[0]\n",
        "    pred_char = index_to_char[tf.argmax(pred).numpy()]\n",
        "    seed += pred_char\n",
        "\n",
        "    if pred_char == '\\t':\n",
        "      break\n",
        "  print(seed)"
      ]
    },
    {
      "cell_type": "code",
      "execution_count": 53,
      "metadata": {
        "id": "faQ0FInlpt26",
        "colab": {
          "base_uri": "https://localhost:8080/"
        },
        "outputId": "bb6e1b85-3b3a-464a-a41a-6033e66298b0"
      },
      "outputs": [
        {
          "output_type": "stream",
          "name": "stdout",
          "text": [
            "1/1 [==============================] - 0s 19ms/step\n",
            "1/1 [==============================] - 0s 22ms/step\n",
            "1/1 [==============================] - 0s 19ms/step\n",
            "1/1 [==============================] - 0s 18ms/step\n",
            "1/1 [==============================] - 0s 24ms/step\n",
            "1/1 [==============================] - 0s 24ms/step\n",
            "1/1 [==============================] - 0s 19ms/step\n",
            "1/1 [==============================] - 0s 19ms/step\n",
            "1/1 [==============================] - 0s 20ms/step\n",
            "1/1 [==============================] - 0s 18ms/step\n",
            "1/1 [==============================] - 0s 18ms/step\n",
            "dark bartel\t\n"
          ]
        }
      ],
      "source": [
        "generate_names('d')"
      ]
    },
    {
      "cell_type": "code",
      "source": [],
      "metadata": {
        "id": "nqOyPvR4pMW7"
      },
      "execution_count": null,
      "outputs": []
    }
  ],
  "metadata": {
    "accelerator": "GPU",
    "colab": {
      "provenance": []
    },
    "kernelspec": {
      "display_name": "Python 3",
      "language": "python",
      "name": "python3"
    },
    "language_info": {
      "codemirror_mode": {
        "name": "ipython",
        "version": 3
      },
      "file_extension": ".py",
      "mimetype": "text/x-python",
      "name": "python",
      "nbconvert_exporter": "python",
      "pygments_lexer": "ipython3",
      "version": "3.8.3"
    }
  },
  "nbformat": 4,
  "nbformat_minor": 0
}